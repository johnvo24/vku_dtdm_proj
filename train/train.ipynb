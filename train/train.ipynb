{
 "cells": [
  {
   "cell_type": "markdown",
   "metadata": {},
   "source": [
    "# Tải dữ liệu"
   ]
  },
  {
   "cell_type": "code",
   "execution_count": null,
   "metadata": {},
   "outputs": [
    {
     "name": "stdout",
     "output_type": "stream",
     "text": [
      "   plan_id  gender    fitness_goal  age    bmi\n",
      "0       12       0  MuscleBuilding   43  32.07\n",
      "1       41       0          Cardio   41  26.48\n",
      "2        5       1  MuscleBuilding   34  21.93\n",
      "3       17       0          Cardio   50  16.14\n",
      "4       48       1  MuscleBuilding   21  42.86\n",
      "<class 'pandas.core.frame.DataFrame'>\n",
      "RangeIndex: 1000 entries, 0 to 999\n",
      "Data columns (total 5 columns):\n",
      " #   Column        Non-Null Count  Dtype  \n",
      "---  ------        --------------  -----  \n",
      " 0   plan_id       1000 non-null   int64  \n",
      " 1   gender        1000 non-null   int64  \n",
      " 2   fitness_goal  1000 non-null   object \n",
      " 3   age           1000 non-null   int64  \n",
      " 4   bmi           1000 non-null   float64\n",
      "dtypes: float64(1), int64(3), object(1)\n",
      "memory usage: 39.2+ KB\n",
      "None\n",
      "plan_id\n",
      "20    30\n",
      "26    30\n",
      "36    28\n",
      "30    28\n",
      "43    28\n",
      "14    26\n",
      "44    26\n",
      "24    25\n",
      "48    25\n",
      "1     23\n",
      "8     23\n",
      "25    22\n",
      "19    22\n",
      "42    22\n",
      "37    22\n",
      "41    22\n",
      "7     22\n",
      "17    21\n",
      "9     21\n",
      "2     21\n",
      "13    21\n",
      "16    20\n",
      "40    20\n",
      "3     20\n",
      "4     20\n",
      "34    20\n",
      "31    20\n",
      "47    20\n",
      "18    19\n",
      "11    19\n",
      "38    19\n",
      "50    18\n",
      "29    18\n",
      "28    18\n",
      "35    18\n",
      "46    17\n",
      "27    17\n",
      "5     17\n",
      "49    17\n",
      "6     17\n",
      "10    16\n",
      "39    16\n",
      "22    15\n",
      "15    15\n",
      "21    14\n",
      "45    13\n",
      "23    13\n",
      "32    13\n",
      "12    12\n",
      "33    11\n",
      "Name: count, dtype: int64\n"
     ]
    }
   ],
   "source": [
    "import pandas as pd\n",
    "# Đọc file CSV\n",
    "file_path = \"fitness_plans_updated.csv\"  # Thay \"your_file.csv\" bằng đường dẫn tới file của bạn\n",
    "data = pd.read_csv(file_path)\n",
    "\n",
    "\n",
    "# Kiểm tra thông tin cơ bản\n",
    "print(data.head())\n",
    "print(data.info())\n",
    "print(data['plan_id'].value_counts())"
   ]
  },
  {
   "cell_type": "markdown",
   "metadata": {},
   "source": [
    "# Tiền xử lý dữ liệu"
   ]
  },
  {
   "cell_type": "code",
   "execution_count": 64,
   "metadata": {},
   "outputs": [],
   "source": [
    "from sklearn.preprocessing import LabelEncoder\n",
    "\n",
    "# Mã hóa fitness_goal\n",
    "label_encoder = LabelEncoder()\n",
    "data['fitness_goal'] = label_encoder.fit_transform(data['fitness_goal'])\n",
    "\n",
    "# Chia thành đầu vào X và đầu ra y\n",
    "X = data.drop('plan_id', axis=1)\n",
    "y = data['plan_id']\n"
   ]
  },
  {
   "cell_type": "markdown",
   "metadata": {},
   "source": [
    "# Chia tập dữ liệu"
   ]
  },
  {
   "cell_type": "code",
   "execution_count": 65,
   "metadata": {},
   "outputs": [],
   "source": [
    "from sklearn.model_selection import train_test_split\n",
    "\n",
    "X_train, X_test, y_train, y_test = train_test_split(X, y, test_size=0.2, random_state=42, stratify=y)\n"
   ]
  },
  {
   "cell_type": "markdown",
   "metadata": {},
   "source": [
    "# Tăng cường dữ liệu bằng SMOTE"
   ]
  },
  {
   "cell_type": "code",
   "execution_count": 66,
   "metadata": {},
   "outputs": [
    {
     "name": "stdout",
     "output_type": "stream",
     "text": [
      "plan_id\n",
      "38    24\n",
      "13    24\n",
      "8     24\n",
      "9     24\n",
      "22    24\n",
      "44    24\n",
      "15    24\n",
      "16    24\n",
      "42    24\n",
      "34    24\n",
      "26    24\n",
      "49    24\n",
      "20    24\n",
      "30    24\n",
      "23    24\n",
      "37    24\n",
      "46    24\n",
      "28    24\n",
      "17    24\n",
      "35    24\n",
      "25    24\n",
      "11    24\n",
      "29    24\n",
      "21    24\n",
      "2     24\n",
      "43    24\n",
      "14    24\n",
      "24    24\n",
      "31    24\n",
      "6     24\n",
      "3     24\n",
      "18    24\n",
      "41    24\n",
      "39    24\n",
      "27    24\n",
      "19    24\n",
      "32    24\n",
      "10    24\n",
      "36    24\n",
      "5     24\n",
      "45    24\n",
      "40    24\n",
      "4     24\n",
      "33    24\n",
      "12    24\n",
      "47    24\n",
      "7     24\n",
      "48    24\n",
      "50    24\n",
      "1     24\n",
      "Name: count, dtype: int64\n"
     ]
    }
   ],
   "source": [
    "from imblearn.over_sampling import SMOTE\n",
    "\n",
    "smote = SMOTE(random_state=42)\n",
    "X_train_resampled, y_train_resampled = smote.fit_resample(X_train, y_train)\n",
    "\n",
    "# Kiểm tra lại phân phối dữ liệu sau khi tăng cường\n",
    "print(y_train_resampled.value_counts())\n"
   ]
  },
  {
   "cell_type": "markdown",
   "metadata": {},
   "source": [
    "# Huấn luyện mô hình"
   ]
  },
  {
   "cell_type": "code",
   "execution_count": 67,
   "metadata": {},
   "outputs": [
    {
     "name": "stdout",
     "output_type": "stream",
     "text": [
      "Accuracy: 0.03\n",
      "              precision    recall  f1-score   support\n",
      "\n",
      "           1       0.00      0.00      0.00         5\n",
      "           2       0.25      0.25      0.25         4\n",
      "           3       0.00      0.00      0.00         4\n",
      "           4       0.00      0.00      0.00         4\n",
      "           5       0.00      0.00      0.00         3\n",
      "           6       0.00      0.00      0.00         3\n",
      "           7       0.00      0.00      0.00         4\n",
      "           8       0.00      0.00      0.00         5\n",
      "           9       0.00      0.00      0.00         4\n",
      "          10       0.00      0.00      0.00         3\n",
      "          11       0.00      0.00      0.00         4\n",
      "          12       0.00      0.00      0.00         2\n",
      "          13       0.00      0.00      0.00         4\n",
      "          14       0.00      0.00      0.00         5\n",
      "          15       0.00      0.00      0.00         3\n",
      "          16       0.40      0.50      0.44         4\n",
      "          17       0.00      0.00      0.00         4\n",
      "          18       0.00      0.00      0.00         4\n",
      "          19       0.00      0.00      0.00         4\n",
      "          20       0.00      0.00      0.00         6\n",
      "          21       0.00      0.00      0.00         3\n",
      "          22       0.33      0.33      0.33         3\n",
      "          23       0.00      0.00      0.00         3\n",
      "          24       0.11      0.20      0.14         5\n",
      "          25       0.00      0.00      0.00         5\n",
      "          26       0.00      0.00      0.00         6\n",
      "          27       0.00      0.00      0.00         3\n",
      "          28       0.00      0.00      0.00         4\n",
      "          29       0.00      0.00      0.00         4\n",
      "          30       0.00      0.00      0.00         6\n",
      "          31       0.00      0.00      0.00         4\n",
      "          32       0.00      0.00      0.00         3\n",
      "          33       0.00      0.00      0.00         2\n",
      "          34       0.00      0.00      0.00         4\n",
      "          35       0.00      0.00      0.00         4\n",
      "          36       0.00      0.00      0.00         6\n",
      "          37       0.00      0.00      0.00         4\n",
      "          38       0.00      0.00      0.00         4\n",
      "          39       0.00      0.00      0.00         3\n",
      "          40       0.00      0.00      0.00         4\n",
      "          41       0.00      0.00      0.00         4\n",
      "          42       0.00      0.00      0.00         4\n",
      "          43       0.00      0.00      0.00         6\n",
      "          44       0.00      0.00      0.00         5\n",
      "          45       0.33      0.33      0.33         3\n",
      "          46       0.00      0.00      0.00         3\n",
      "          47       0.00      0.00      0.00         4\n",
      "          48       0.00      0.00      0.00         5\n",
      "          49       0.00      0.00      0.00         3\n",
      "          50       0.00      0.00      0.00         4\n",
      "\n",
      "    accuracy                           0.03       200\n",
      "   macro avg       0.03      0.03      0.03       200\n",
      "weighted avg       0.03      0.03      0.03       200\n",
      "\n"
     ]
    },
    {
     "name": "stderr",
     "output_type": "stream",
     "text": [
      "d:\\AppData\\Python\\Python313\\Lib\\site-packages\\sklearn\\metrics\\_classification.py:1531: UndefinedMetricWarning: Precision is ill-defined and being set to 0.0 in labels with no predicted samples. Use `zero_division` parameter to control this behavior.\n",
      "  _warn_prf(average, modifier, f\"{metric.capitalize()} is\", len(result))\n",
      "d:\\AppData\\Python\\Python313\\Lib\\site-packages\\sklearn\\metrics\\_classification.py:1531: UndefinedMetricWarning: Precision is ill-defined and being set to 0.0 in labels with no predicted samples. Use `zero_division` parameter to control this behavior.\n",
      "  _warn_prf(average, modifier, f\"{metric.capitalize()} is\", len(result))\n",
      "d:\\AppData\\Python\\Python313\\Lib\\site-packages\\sklearn\\metrics\\_classification.py:1531: UndefinedMetricWarning: Precision is ill-defined and being set to 0.0 in labels with no predicted samples. Use `zero_division` parameter to control this behavior.\n",
      "  _warn_prf(average, modifier, f\"{metric.capitalize()} is\", len(result))\n"
     ]
    }
   ],
   "source": [
    "from xgboost import XGBClassifier\n",
    "from sklearn.metrics import accuracy_score, classification_report\n",
    "\n",
    "# Điều chỉnh nhãn lớp để bắt đầu từ 0\n",
    "y_train_resampled_adjusted = y_train_resampled - y_train_resampled.min()\n",
    "y_test_adjusted = y_test - y_test.min()\n",
    "\n",
    "# Khởi tạo và huấn luyện mô hình\n",
    "model = XGBClassifier(objective=\"multi:softmax\", num_class=len(y.unique()), eval_metric=\"mlogloss\")\n",
    "model.fit(X_train_resampled, y_train_resampled_adjusted)\n",
    "\n",
    "# Dự đoán trên tập kiểm tra\n",
    "y_pred_adjusted = model.predict(X_test)\n",
    "\n",
    "# Chuyển kết quả dự đoán về nhãn lớp ban đầu (nếu cần)\n",
    "y_pred = y_pred_adjusted + y_test.min()\n",
    "\n",
    "# Đánh giá mô hình\n",
    "accuracy = accuracy_score(y_test, y_pred)\n",
    "print(f\"Accuracy: {accuracy:.2f}\")\n",
    "print(classification_report(y_test, y_pred))\n"
   ]
  },
  {
   "cell_type": "markdown",
   "metadata": {},
   "source": [
    "# Phân tích kết quả"
   ]
  },
  {
   "cell_type": "code",
   "execution_count": 68,
   "metadata": {},
   "outputs": [
    {
     "name": "stdout",
     "output_type": "stream",
     "text": [
      "Best parameters: {'learning_rate': 0.1, 'max_depth': 7, 'n_estimators': 100}\n",
      "Accuracy: 0.01\n",
      "              precision    recall  f1-score   support\n",
      "\n",
      "           1       0.00      0.00      0.00         5\n",
      "           2       0.00      0.00      0.00         4\n",
      "           3       0.00      0.00      0.00         4\n",
      "           4       0.00      0.00      0.00         4\n",
      "           5       0.00      0.00      0.00         3\n",
      "           6       0.00      0.00      0.00         3\n",
      "           7       0.00      0.00      0.00         4\n",
      "           8       0.00      0.00      0.00         5\n",
      "           9       0.00      0.00      0.00         4\n",
      "          10       0.00      0.00      0.00         3\n",
      "          11       0.00      0.00      0.00         4\n",
      "          12       0.00      0.00      0.00         2\n",
      "          13       0.00      0.00      0.00         4\n",
      "          14       0.00      0.00      0.00         5\n",
      "          15       0.00      0.00      0.00         3\n",
      "          16       0.00      0.00      0.00         4\n",
      "          17       0.00      0.00      0.00         4\n",
      "          18       0.00      0.00      0.00         4\n",
      "          19       0.00      0.00      0.00         4\n",
      "          20       0.00      0.00      0.00         6\n",
      "          21       0.00      0.00      0.00         3\n",
      "          22       0.50      0.33      0.40         3\n",
      "          23       0.00      0.00      0.00         3\n",
      "          24       0.12      0.20      0.15         5\n",
      "          25       0.00      0.00      0.00         5\n",
      "          26       0.00      0.00      0.00         6\n",
      "          27       0.00      0.00      0.00         3\n",
      "          28       0.00      0.00      0.00         4\n",
      "          29       0.00      0.00      0.00         4\n",
      "          30       0.00      0.00      0.00         6\n",
      "          31       0.00      0.00      0.00         4\n",
      "          32       0.00      0.00      0.00         3\n",
      "          33       0.00      0.00      0.00         2\n",
      "          34       0.00      0.00      0.00         4\n",
      "          35       0.00      0.00      0.00         4\n",
      "          36       0.00      0.00      0.00         6\n",
      "          37       0.00      0.00      0.00         4\n",
      "          38       0.00      0.00      0.00         4\n",
      "          39       0.00      0.00      0.00         3\n",
      "          40       0.00      0.00      0.00         4\n",
      "          41       0.00      0.00      0.00         4\n",
      "          42       0.00      0.00      0.00         4\n",
      "          43       0.00      0.00      0.00         6\n",
      "          44       0.00      0.00      0.00         5\n",
      "          45       0.00      0.00      0.00         3\n",
      "          46       0.00      0.00      0.00         3\n",
      "          47       0.00      0.00      0.00         4\n",
      "          48       0.00      0.00      0.00         5\n",
      "          49       0.00      0.00      0.00         3\n",
      "          50       0.00      0.00      0.00         4\n",
      "\n",
      "    accuracy                           0.01       200\n",
      "   macro avg       0.01      0.01      0.01       200\n",
      "weighted avg       0.01      0.01      0.01       200\n",
      "\n"
     ]
    }
   ],
   "source": [
    "from sklearn.model_selection import GridSearchCV\n",
    "\n",
    "# Điều chỉnh nhãn lớp để bắt đầu từ 0\n",
    "y_train_resampled_adjusted = y_train_resampled - y_train_resampled.min()\n",
    "\n",
    "param_grid = {\n",
    "    'n_estimators': [100, 200],\n",
    "    'max_depth': [3, 5, 7],\n",
    "    'learning_rate': [0.01, 0.1, 0.2],\n",
    "}\n",
    "\n",
    "# Sử dụng model đã huấn luyện với nhãn lớp đã điều chỉnh\n",
    "grid = GridSearchCV(estimator=model, param_grid=param_grid, cv=5, scoring='accuracy')\n",
    "grid.fit(X_train_resampled, y_train_resampled_adjusted)\n",
    "\n",
    "# In kết quả tốt nhất\n",
    "print(f\"Best parameters: {grid.best_params_}\")\n",
    "best_model = grid.best_estimator_\n",
    "\n",
    "# Nếu cần chuyển đổi lại nhãn lớp về dạng ban đầu\n",
    "y_pred_adjusted = best_model.predict(X_test)\n",
    "y_pred = y_pred_adjusted + y_test.min()\n",
    "\n",
    "# Đánh giá mô hình\n",
    "accuracy = accuracy_score(y_test, y_pred)\n",
    "print(f\"Accuracy: {accuracy:.2f}\")\n",
    "print(classification_report(y_test, y_pred))\n",
    " "
   ]
  },
  {
   "cell_type": "markdown",
   "metadata": {},
   "source": [
    "# Dự đoán dữ liệu mới"
   ]
  },
  {
   "cell_type": "code",
   "execution_count": 84,
   "metadata": {},
   "outputs": [
    {
     "name": "stdout",
     "output_type": "stream",
     "text": [
      "Predicted plan_id: [27]\n"
     ]
    }
   ],
   "source": [
    "# Ví dụ dữ liệu mới\n",
    "new_data = pd.DataFrame({\n",
    "    'gender': [0],\n",
    "    'fitness_goal': [1],  # Mã hóa fitness_goal tương tự như trên\n",
    "    'age': [30],\n",
    "    'bmi': [25.5]\n",
    "})\n",
    "\n",
    "# Dự đoán\n",
    "new_prediction = model.predict(new_data)\n",
    "print(\"Predicted plan_id:\", new_prediction)\n"
   ]
  },
  {
   "cell_type": "markdown",
   "metadata": {},
   "source": [
    "# Lưu mô hình"
   ]
  },
  {
   "cell_type": "code",
   "execution_count": null,
   "metadata": {},
   "outputs": [
    {
     "name": "stdout",
     "output_type": "stream",
     "text": [
      "Predicted plan_id: [27]\n"
     ]
    }
   ],
   "source": [
    "import pickle\n",
    "\n",
    "# Lưu mô hình vào file với pickle\n",
    "with open('xgb_model.pkl', 'wb') as file:\n",
    "    pickle.dump(model, file)\n",
    "\n",
    "\n",
    "# Tải lại mô hình với pickle\n",
    "# with open('xgb_model.pkl', 'rb') as file:\n",
    "#     loaded_model = pickle.load(file)\n",
    "\n",
    "# Dự đoán với mô hình đã tải\n",
    "# predictions = loaded_model.predict(new_data)\n",
    "# print(\"Predicted plan_id:\", predictions)"
   ]
  }
 ],
 "metadata": {
  "kernelspec": {
   "display_name": ".venv",
   "language": "python",
   "name": "python3"
  },
  "language_info": {
   "codemirror_mode": {
    "name": "ipython",
    "version": 3
   },
   "file_extension": ".py",
   "mimetype": "text/x-python",
   "name": "python",
   "nbconvert_exporter": "python",
   "pygments_lexer": "ipython3",
   "version": "3.12.7"
  }
 },
 "nbformat": 4,
 "nbformat_minor": 2
}
